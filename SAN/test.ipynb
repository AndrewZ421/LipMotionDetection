{
 "cells": [
  {
   "cell_type": "code",
   "execution_count": 74,
   "metadata": {},
   "outputs": [],
   "source": [
    "from imutils import face_utils\n",
    "import numpy as np\n",
    "import imutils\n",
    "import dlib\n",
    "import cv2\n",
    "import json\n",
    "import matplotlib.pyplot as plt\n",
    "import os"
   ]
  },
  {
   "cell_type": "code",
   "execution_count": 75,
   "metadata": {},
   "outputs": [],
   "source": [
    "# image file folder\n",
    "FILE_PATH = ['datasets/300W-Style/300W-Gray/', 'datasets/300W-Style/300W-Light/',\n",
    "            'datasets/300W-Style/300W-Original/', 'datasets/300W-Style/300W-Sketch/']\n",
    "# testset position\n",
    "TEST_PATH = ['helen/testset', 'lfpw/testset', 'ibug']\n",
    "# use 68 key points face model\n",
    "SHAPE_PREDICTOR = \"../../LipMotionDetection/model/shape_predictor_68_face_landmarks.dat\"\n",
    "# define lip region\n",
    "(LIPFROM, LIPTO) = (49, 68)\n",
    "# define threshold for lip motion\n",
    "THRESHOLD = 0.65"
   ]
  },
  {
   "cell_type": "code",
   "execution_count": 76,
   "metadata": {},
   "outputs": [],
   "source": [
    "# define the face detector\n",
    "DETECTOR = dlib.get_frontal_face_detector()\n",
    "# define a shape predictor\n",
    "PREDICTOR = dlib.shape_predictor(SHAPE_PREDICTOR)"
   ]
  },
  {
   "cell_type": "code",
   "execution_count": 77,
   "metadata": {},
   "outputs": [],
   "source": [
    "TEST_PATH_COMMON = []\n",
    "TEST_PATH_CHALLENGING = []\n",
    "for file in FILE_PATH:\n",
    "    TEST_PATH_COMMON.append(file + TEST_PATH[0])\n",
    "    TEST_PATH_COMMON.append(file + TEST_PATH[1])\n",
    "    TEST_PATH_CHALLENGING.append(file + TEST_PATH[2])\n",
    "TEST_PATH_FULL = TEST_PATH_COMMON + TEST_PATH_CHALLENGING"
   ]
  },
  {
   "cell_type": "code",
   "execution_count": 78,
   "metadata": {},
   "outputs": [],
   "source": [
    "def getFileList(dir, ext=None):\n",
    "    Filelist = []        \n",
    "    if os.path.isdir(dir):\n",
    "        for f in os.listdir(dir):\n",
    "            if ext is None:\n",
    "                Filelist.append(path + '/' + f)\n",
    "            elif ext in f[-3:]:\n",
    "                    Filelist.append(path + '/' + f)\n",
    " \n",
    "    return Filelist"
   ]
  },
  {
   "cell_type": "code",
   "execution_count": 79,
   "metadata": {},
   "outputs": [],
   "source": [
    "def loadGroundTruth(imgFile):\n",
    "    prefix = imgFile[:-4]\n",
    "    ptsFile = prefix +'.pts'\n",
    "    return np.loadtxt(ptsFile, comments=(\"version:\", \"n_points:\", \"{\", \"}\"))"
   ]
  },
  {
   "cell_type": "code",
   "execution_count": 80,
   "metadata": {},
   "outputs": [],
   "source": [
    "IMAGE_COMMON = []\n",
    "for path in TEST_PATH_COMMON:\n",
    "    temp = getFileList(dir=path, ext='jpg')\n",
    "    if len(temp) == 0:\n",
    "        temp = getFileList(dir=path, ext='png')\n",
    "    IMAGE_COMMON += temp\n",
    "IMAGE_CHALLENGING = []\n",
    "for path in TEST_PATH_CHALLENGING:\n",
    "    temp = getFileList(dir=path, ext='jpg')\n",
    "    if len(temp) == 0:\n",
    "        temp = getFileList(dir=path, ext='png')\n",
    "    IMAGE_CHALLENGING += temp\n",
    "IMAGE_FULL = IMAGE_COMMON + IMAGE_CHALLENGING"
   ]
  },
  {
   "cell_type": "code",
   "execution_count": 81,
   "metadata": {},
   "outputs": [],
   "source": [
    "def getDisP2P(a, b):\n",
    "    return np.linalg.norm(np.array(a)-np.array(b))"
   ]
  },
  {
   "cell_type": "code",
   "execution_count": 82,
   "metadata": {},
   "outputs": [],
   "source": [
    "def getMeanDisF2F(A, B):\n",
    "    Dis = 0\n",
    "    for i in range(len(A)):\n",
    "        dis = getDisP2P(A[i], B[i])\n",
    "        Dis += dis\n",
    "    # print('Mean Dis:', Dis/len(A))\n",
    "    return Dis/len(A)"
   ]
  },
  {
   "cell_type": "code",
   "execution_count": 86,
   "metadata": {},
   "outputs": [],
   "source": [
    "def getDio(face):\n",
    "    left = [np.mean(face[36:42][0]), np.mean(face[36:42][1])]\n",
    "    right = [np.mean(face[42:48][0]), np.mean(face[42:48][1])]\n",
    "    # print(left, right)\n",
    "    Dio = getDisP2P(left, right)\n",
    "    # print('Dio:', Dio)\n",
    "    return Dio"
   ]
  },
  {
   "cell_type": "code",
   "execution_count": 84,
   "metadata": {},
   "outputs": [],
   "source": [
    "def getNME(A, B):\n",
    "    NME = getMeanDisF2F(A, B)/getDio(B)\n",
    "    return NME"
   ]
  },
  {
   "cell_type": "code",
   "execution_count": 100,
   "metadata": {},
   "outputs": [
    {
     "name": "stdout",
     "output_type": "stream",
     "text": [
      "0 / 2216\n",
      "100 / 2216\n",
      "200 / 2216\n",
      "300 / 2216\n",
      "400 / 2216\n",
      "500 / 2216\n",
      "600 / 2216\n",
      "700 / 2216\n",
      "800 / 2216\n",
      "900 / 2216\n",
      "1000 / 2216\n",
      "1100 / 2216\n",
      "1200 / 2216\n",
      "1300 / 2216\n",
      "1400 / 2216\n",
      "1500 / 2216\n",
      "1600 / 2216\n",
      "1700 / 2216\n",
      "1800 / 2216\n",
      "1900 / 2216\n",
      "2000 / 2216\n",
      "2100 / 2216\n",
      "2200 / 2216\n"
     ]
    }
   ],
   "source": [
    "NME_COMMON_SUM = 0\n",
    "MISS_COMMON = 0\n",
    "for idx, path in enumerate(IMAGE_COMMON):\n",
    "    temp = []\n",
    "    temp_GT = []\n",
    "    image=cv2.imread(path)\n",
    "    # plt.imshow(image)\n",
    "    # plt.show()\n",
    "    image_gray = cv2.cvtColor(image, cv2.COLOR_BGR2GRAY)\n",
    "    rects = DETECTOR(image_gray, 0)\n",
    " \n",
    "    if len(rects):\n",
    "        nme = -1\n",
    "        for rect in rects:\n",
    "            shape = PREDICTOR(image_gray, rect)\n",
    "            shape = face_utils.shape_to_np(shape)\n",
    "            temp = shape\n",
    "            temp_GT = loadGroundTruth(path)\n",
    "            if (nme == -1):\n",
    "                nme = getNME(temp, temp_GT)\n",
    "            else:\n",
    "                nme = min(nme, getNME(temp, temp_GT))\n",
    "        NME_COMMON_SUM += nme\n",
    "    else:\n",
    "        MISS_COMMON += 1\n",
    "    if(idx % 100 == 0):\n",
    "        print(idx, '/', len(IMAGE_COMMON))\n",
    "\n",
    "NME_COMMON = NME_COMMON_SUM / (len(IMAGE_COMMON)-MISS_COMMON)"
   ]
  },
  {
   "cell_type": "code",
   "execution_count": 101,
   "metadata": {},
   "outputs": [
    {
     "name": "stdout",
     "output_type": "stream",
     "text": [
      "47\n",
      "0.9787906137184116\n",
      "0.07697584362504409\n"
     ]
    }
   ],
   "source": [
    "print(MISS_COMMON)\n",
    "print(1-MISS_COMMON/len(IMAGE_COMMON))\n",
    "print(NME_COMMON)"
   ]
  },
  {
   "cell_type": "code",
   "execution_count": 108,
   "metadata": {},
   "outputs": [
    {
     "name": "stdout",
     "output_type": "stream",
     "text": [
      "0 / 540\n",
      "100 / 540\n",
      "200 / 540\n",
      "300 / 540\n",
      "400 / 540\n",
      "500 / 540\n"
     ]
    }
   ],
   "source": [
    "NME_CHALLENGING_SUM = 0\n",
    "MISS_CHALLENGING = 0\n",
    "FALSE_CHALLENGING = 0\n",
    "for idx, path in enumerate(IMAGE_CHALLENGING):\n",
    "    temp = []\n",
    "    temp_GT = []\n",
    "    image=cv2.imread(path)\n",
    "    # plt.imshow(image)\n",
    "    # plt.show()\n",
    "    image_gray = cv2.cvtColor(image, cv2.COLOR_BGR2GRAY)\n",
    "    rects = DETECTOR(image_gray, 0)\n",
    "\n",
    "    if len(rects):\n",
    "        nme = -1\n",
    "        for rect in rects:\n",
    "            shape = PREDICTOR(image_gray, rect)\n",
    "            shape = face_utils.shape_to_np(shape)\n",
    "            temp = shape\n",
    "            temp_GT = loadGroundTruth(path)\n",
    "            if (nme == -1):\n",
    "                nme = getNME(temp, temp_GT)\n",
    "            else:\n",
    "                nme = min(nme, getNME(temp, temp_GT))\n",
    "        NME_CHALLENGING_SUM += nme\n",
    "        if (nme > 0.3):\n",
    "            FALSE_CHALLENGING += 1\n",
    "    else:\n",
    "        MISS_CHALLENGING += 1\n",
    "    if(idx % 100 == 0):\n",
    "        print(idx, '/', len(IMAGE_CHALLENGING))\n",
    "\n",
    "NME_CHALLENGING = NME_CHALLENGING_SUM / (len(IMAGE_CHALLENGING)-MISS_CHALLENGING)"
   ]
  },
  {
   "cell_type": "code",
   "execution_count": 109,
   "metadata": {},
   "outputs": [
    {
     "name": "stdout",
     "output_type": "stream",
     "text": [
      "116\n",
      "0.7851851851851852\n",
      "82\n",
      "0.6333333333333333\n",
      "2.2675725895714125\n"
     ]
    }
   ],
   "source": [
    "print(MISS_CHALLENGING)\n",
    "print(1-MISS_CHALLENGING/len(IMAGE_CHALLENGING))\n",
    "print(FALSE_CHALLENGING)\n",
    "print(1-(MISS_CHALLENGING+FALSE_CHALLENGING)/len(IMAGE_CHALLENGING))\n",
    "print(NME_CHALLENGING)"
   ]
  },
  {
   "cell_type": "code",
   "execution_count": 104,
   "metadata": {},
   "outputs": [
    {
     "name": "stdout",
     "output_type": "stream",
     "text": [
      "163\n",
      "0.940856313497823\n",
      "0.43517600570806\n"
     ]
    }
   ],
   "source": [
    "MISS_FULL = MISS_COMMON + MISS_CHALLENGING\n",
    "print(MISS_FULL)\n",
    "print(1-MISS_FULL/len(IMAGE_FULL))\n",
    "\n",
    "NME_FULL_SUM = NME_COMMON_SUM + NME_CHALLENGING_SUM\n",
    "NME_FULL = NME_FULL_SUM / (len(IMAGE_FULL)-MISS_FULL)\n",
    "print(NME_FULL)"
   ]
  },
  {
   "cell_type": "code",
   "execution_count": null,
   "metadata": {},
   "outputs": [],
   "source": []
  }
 ],
 "metadata": {
  "interpreter": {
   "hash": "a8f61be024eba58adef938c9aa1e29e02cb3dece83a5348b1a2dafd16a070453"
  },
  "kernelspec": {
   "display_name": "Python 3.8.5 64-bit ('base': conda)",
   "language": "python",
   "name": "python3"
  },
  "language_info": {
   "codemirror_mode": {
    "name": "ipython",
    "version": 3
   },
   "file_extension": ".py",
   "mimetype": "text/x-python",
   "name": "python",
   "nbconvert_exporter": "python",
   "pygments_lexer": "ipython3",
   "version": "3.8.12"
  },
  "orig_nbformat": 4
 },
 "nbformat": 4,
 "nbformat_minor": 2
}
