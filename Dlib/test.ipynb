{
 "cells": [
  {
   "cell_type": "code",
   "execution_count": 8,
   "metadata": {},
   "outputs": [],
   "source": [
    "from imutils import face_utils\n",
    "import numpy as np\n",
    "import imutils\n",
    "import dlib\n",
    "import cv2\n",
    "import json\n",
    "import matplotlib.pyplot as plt\n",
    "import math\n",
    "import seaborn as sns"
   ]
  },
  {
   "cell_type": "code",
   "execution_count": 9,
   "metadata": {},
   "outputs": [],
   "source": [
    "# load file\n",
    "FILE_NAME = \"00485_Chinese_Asian_Female_Young/00485_1\"\n",
    "# define video path\n",
    "VIDEOPATH = \"../video/\" + FILE_NAME + \".mp4\"\n",
    "# define json path\n",
    "JSONPATH = \"../video/\" + FILE_NAME + \".json\"\n",
    "# use 68 key points face model\n",
    "SHAPE_PREDICTOR = \"model/shape_predictor_68_face_landmarks.dat\"\n",
    "# define lip region\n",
    "(LIPFROM, LIPTO) = (49, 68)\n",
    "# define threshold for lip motion\n",
    "HIGH_THRESHOLD = 0.65\n",
    "LOW_THRESHOLD = 0.4"
   ]
  },
  {
   "cell_type": "code",
   "execution_count": 10,
   "metadata": {},
   "outputs": [],
   "source": [
    "# load json info\n",
    "with open(JSONPATH,'r', encoding='utf-8') as load_f:\n",
    "    load_dict = json.load(load_f)\n",
    "# record speaking period\n",
    "duration = []\n",
    "for recored in load_dict:\n",
    "    start = recored['start time']\n",
    "    end = recored['end time']\n",
    "    duration.append((start, end))\n",
    "# print(duration)\n",
    "# exit()"
   ]
  },
  {
   "cell_type": "code",
   "execution_count": 11,
   "metadata": {},
   "outputs": [],
   "source": [
    "# define the face detector\n",
    "DETECTOR = dlib.get_frontal_face_detector()\n",
    "# define a shape predictor\n",
    "PREDICTOR = dlib.shape_predictor(SHAPE_PREDICTOR)"
   ]
  },
  {
   "cell_type": "code",
   "execution_count": 12,
   "metadata": {},
   "outputs": [
    {
     "name": "stdout",
     "output_type": "stream",
     "text": [
      "24.666666666666668\n"
     ]
    }
   ],
   "source": [
    "# read original video\n",
    "# fvs = FileVideoStream(path=VIDEOPATH).start()\n",
    "VC = cv2.VideoCapture(VIDEOPATH)\n",
    "FRAME_RATE = VC.get(cv2.CAP_PROP_FPS)\n",
    "print(FRAME_RATE)\n",
    "# define output video\n",
    "FRAME_WIDTH = int(VC.get(cv2.CAP_PROP_FRAME_WIDTH))\n",
    "FRAME_HEIGHT = int(VC.get(cv2.CAP_PROP_FRAME_HEIGHT))\n",
    "# out = cv2.VideoWriter('video/out_dlib.avi', cv2.VideoWriter_fourcc('M','J','P','G'), 30, (frame_width,frame_height))"
   ]
  },
  {
   "cell_type": "code",
   "execution_count": 13,
   "metadata": {},
   "outputs": [],
   "source": [
    "def lip_aspect_ratio(lip):\n",
    "\n",
    "    # left top to left bottom\n",
    "    A = np.linalg.norm(lip[2] - lip[9])  # 51, 59\n",
    "    # right top to right bottom\n",
    "    B = np.linalg.norm(lip[4] - lip[7])  # 53, 57\n",
    "    # leftest to rightest\n",
    "    C = np.linalg.norm(lip[0] - lip[6])  # 49, 55\n",
    "    lar = (A + B) / (2.0 * C)\n",
    "\n",
    "    return lar"
   ]
  },
  {
   "cell_type": "code",
   "execution_count": 20,
   "metadata": {},
   "outputs": [],
   "source": [
    "def process_frame(frame):\n",
    "\n",
    "    # preprocess\n",
    "    frame = imutils.resize(frame, width=640)\n",
    "    frame_gray = cv2.cvtColor(frame, cv2.COLOR_BGR2GRAY)\n",
    "    # detect face rect\n",
    "    rects = DETECTOR(frame_gray, 0)\n",
    "\n",
    "    Lars = []\n",
    "\n",
    "    for rect in rects:\n",
    "        # find key points inside the face rect\n",
    "        shape = PREDICTOR(frame_gray, rect)\n",
    "        shape = face_utils.shape_to_np(shape)\n",
    "\n",
    "        # locate lip region\n",
    "        lip = shape[LIPFROM:LIPTO]\n",
    "        print(shape.shape())\n",
    "        print('shape', shape)\n",
    "        # get lip aspect ratio\n",
    "        lar = lip_aspect_ratio(lip)\n",
    "        Lars.append(lar)\n",
    "\n",
    "        # get the shape of lip\n",
    "        lip_shape = cv2.convexHull(lip)\n",
    "        cv2.drawContours(frame, [lip_shape], -1, (0, 255, 0), 1)\n",
    "        cv2.putText(frame, \"LAR: {:.2f}\".format(lar), (30, 30), cv2.FONT_HERSHEY_SIMPLEX, 0.7, (0, 0, 255), 1)\n",
    "\n",
    "        # if open\n",
    "        if lar > HIGH_THRESHOLD or lar < LOW_THRESHOLD:\n",
    "            cv2.putText(frame, \"Mouth is Open!\", (30, 60), cv2.FONT_HERSHEY_SIMPLEX, 0.7, (0, 0, 255), 1)                \n",
    "\n",
    "    return Lars, frame"
   ]
  },
  {
   "cell_type": "code",
   "execution_count": 21,
   "metadata": {},
   "outputs": [],
   "source": [
    "def get_mode(nums):\n",
    "    counts = np.bincount(nums)\n",
    "    mode = np.argmax(counts)\n",
    "    return mode"
   ]
  },
  {
   "cell_type": "code",
   "execution_count": 22,
   "metadata": {},
   "outputs": [
    {
     "ename": "TypeError",
     "evalue": "'tuple' object is not callable",
     "output_type": "error",
     "traceback": [
      "\u001b[1;31m---------------------------------------------------------------------------\u001b[0m",
      "\u001b[1;31mTypeError\u001b[0m                                 Traceback (most recent call last)",
      "\u001b[1;32m~\\AppData\\Local\\Temp/ipykernel_22196/1013263697.py\u001b[0m in \u001b[0;36m<module>\u001b[1;34m\u001b[0m\n\u001b[0;32m      4\u001b[0m     \u001b[0mrval\u001b[0m\u001b[1;33m,\u001b[0m \u001b[0mframe\u001b[0m \u001b[1;33m=\u001b[0m \u001b[0mVC\u001b[0m\u001b[1;33m.\u001b[0m\u001b[0mread\u001b[0m\u001b[1;33m(\u001b[0m\u001b[1;33m)\u001b[0m\u001b[1;33m\u001b[0m\u001b[1;33m\u001b[0m\u001b[0m\n\u001b[0;32m      5\u001b[0m     \u001b[1;32mif\u001b[0m \u001b[0mrval\u001b[0m\u001b[1;33m:\u001b[0m\u001b[1;33m\u001b[0m\u001b[1;33m\u001b[0m\u001b[0m\n\u001b[1;32m----> 6\u001b[1;33m         \u001b[0mlar\u001b[0m\u001b[1;33m,\u001b[0m \u001b[0mframe\u001b[0m \u001b[1;33m=\u001b[0m \u001b[0mprocess_frame\u001b[0m\u001b[1;33m(\u001b[0m\u001b[0mframe\u001b[0m\u001b[1;33m)\u001b[0m\u001b[1;33m\u001b[0m\u001b[1;33m\u001b[0m\u001b[0m\n\u001b[0m\u001b[0;32m      7\u001b[0m         \u001b[0mLARs\u001b[0m \u001b[1;33m=\u001b[0m \u001b[0mLARs\u001b[0m \u001b[1;33m+\u001b[0m \u001b[0mlar\u001b[0m\u001b[1;33m\u001b[0m\u001b[1;33m\u001b[0m\u001b[0m\n\u001b[0;32m      8\u001b[0m     \u001b[1;32melse\u001b[0m\u001b[1;33m:\u001b[0m\u001b[1;33m\u001b[0m\u001b[1;33m\u001b[0m\u001b[0m\n",
      "\u001b[1;32m~\\AppData\\Local\\Temp/ipykernel_22196/2787916668.py\u001b[0m in \u001b[0;36mprocess_frame\u001b[1;34m(frame)\u001b[0m\n\u001b[0;32m     16\u001b[0m         \u001b[1;31m# locate lip region\u001b[0m\u001b[1;33m\u001b[0m\u001b[1;33m\u001b[0m\u001b[1;33m\u001b[0m\u001b[0m\n\u001b[0;32m     17\u001b[0m         \u001b[0mlip\u001b[0m \u001b[1;33m=\u001b[0m \u001b[0mshape\u001b[0m\u001b[1;33m[\u001b[0m\u001b[0mLIPFROM\u001b[0m\u001b[1;33m:\u001b[0m\u001b[0mLIPTO\u001b[0m\u001b[1;33m]\u001b[0m\u001b[1;33m\u001b[0m\u001b[1;33m\u001b[0m\u001b[0m\n\u001b[1;32m---> 18\u001b[1;33m         \u001b[0mprint\u001b[0m\u001b[1;33m(\u001b[0m\u001b[0mshape\u001b[0m\u001b[1;33m.\u001b[0m\u001b[0mshape\u001b[0m\u001b[1;33m(\u001b[0m\u001b[1;33m)\u001b[0m\u001b[1;33m)\u001b[0m\u001b[1;33m\u001b[0m\u001b[1;33m\u001b[0m\u001b[0m\n\u001b[0m\u001b[0;32m     19\u001b[0m         \u001b[0mprint\u001b[0m\u001b[1;33m(\u001b[0m\u001b[1;34m'shape'\u001b[0m\u001b[1;33m,\u001b[0m \u001b[0mshape\u001b[0m\u001b[1;33m)\u001b[0m\u001b[1;33m\u001b[0m\u001b[1;33m\u001b[0m\u001b[0m\n\u001b[0;32m     20\u001b[0m         \u001b[1;31m# get lip aspect ratio\u001b[0m\u001b[1;33m\u001b[0m\u001b[1;33m\u001b[0m\u001b[1;33m\u001b[0m\u001b[0m\n",
      "\u001b[1;31mTypeError\u001b[0m: 'tuple' object is not callable"
     ]
    }
   ],
   "source": [
    "LARs = []\n",
    "while (VC.isOpened()):\n",
    "    # read frames\n",
    "    rval, frame = VC.read()\n",
    "    if rval:\n",
    "        lar, frame = process_frame(frame)\n",
    "        LARs = LARs + lar\n",
    "    else: \n",
    "        break\n",
    "\n",
    "plt.figure(figsize=(100,10))\n",
    "x = np.arange(len(LARs))\n",
    "plt.plot(x, LARs,'-')\n",
    "plt.show()"
   ]
  },
  {
   "cell_type": "code",
   "execution_count": 69,
   "metadata": {},
   "outputs": [
    {
     "name": "stdout",
     "output_type": "stream",
     "text": [
      "Min: 0.3823666184276258\n",
      "Max: 0.9002474066078935\n",
      "Avg: 0.6364279352212924\n",
      "Std: 0.0619987748788807\n"
     ]
    }
   ],
   "source": [
    "print('Min:', min(LARs))\n",
    "print('Max:', max(LARs))\n",
    "print('Avg:', np.mean(LARs))\n",
    "print('Std:', np.std(LARs))"
   ]
  },
  {
   "cell_type": "code",
   "execution_count": 70,
   "metadata": {},
   "outputs": [
    {
     "name": "stdout",
     "output_type": "stream",
     "text": [
      "304.86486486486484\n"
     ]
    }
   ],
   "source": [
    "if VC.isOpened:\n",
    "\tFrameNumber = VC.get(7)\n",
    "\tVIDEO_LENGTH = FrameNumber/FRAME_RATE\n",
    "print(VIDEO_LENGTH)"
   ]
  },
  {
   "cell_type": "code",
   "execution_count": 71,
   "metadata": {},
   "outputs": [],
   "source": [
    "GROUNG_TRUTH = []\n",
    "for i in range(math.ceil(VIDEO_LENGTH)):\n",
    "    GROUNG_TRUTH.append(False)"
   ]
  },
  {
   "cell_type": "code",
   "execution_count": 72,
   "metadata": {},
   "outputs": [],
   "source": [
    "for (start, end) in duration:\n",
    "    s = round(start)\n",
    "    e = round(end)\n",
    "    for i in range(s, e):\n",
    "        GROUNG_TRUTH[i] = True"
   ]
  },
  {
   "cell_type": "code",
   "execution_count": 99,
   "metadata": {},
   "outputs": [],
   "source": [
    "PREDICTION = []\n",
    "idx = 0\n",
    "while idx < len(LARs):\n",
    "    if idx % 48 == 0 or idx % 49 == 0 or idx % 100 == 0:\n",
    "        idx += 1\n",
    "        continue\n",
    "    temp = []\n",
    "    for i in range(math.floor(FRAME_RATE)):\n",
    "        lar = LARs[idx]\n",
    "        if lar > 0.65 or lar < 0.48:\n",
    "        # if lar > 0.65:\n",
    "            temp.append(1)\n",
    "        else:\n",
    "            temp.append(0)\n",
    "        idx += 1\n",
    "        if idx == len(LARs):\n",
    "            break\n",
    "    pred = get_mode(temp)\n",
    "    if(pred):\n",
    "        PREDICTION.append(True)\n",
    "    else:\n",
    "        PREDICTION.append(False)"
   ]
  },
  {
   "cell_type": "code",
   "execution_count": 100,
   "metadata": {},
   "outputs": [],
   "source": [
    "TN = 0\n",
    "TP = 0\n",
    "FN = 0\n",
    "FP = 0\n",
    "for i in range(len(GROUNG_TRUTH)):\n",
    "    if GROUNG_TRUTH[i]:\n",
    "        if PREDICTION[i]:\n",
    "            TN += 1\n",
    "        else:\n",
    "            FP += 1\n",
    "    else:\n",
    "        if PREDICTION[i]:\n",
    "            FN += 1\n",
    "        else:\n",
    "            TP += 1\n",
    "alpha = FP/(FP+TN)\n",
    "beta = FN/(FN+TP)\n",
    "correct_rate = (TN+TP)/(FP+TN+FN+TP)"
   ]
  },
  {
   "cell_type": "code",
   "execution_count": 101,
   "metadata": {},
   "outputs": [
    {
     "name": "stdout",
     "output_type": "stream",
     "text": [
      "alpha: 0.35374149659863946\n",
      "beta: 0.22784810126582278\n",
      "correct_rate: 0.7114754098360656\n"
     ]
    },
    {
     "data": {
      "image/png": "[encoded data removed]",
      "text/plain": [
       "<Figure size 432x288 with 2 Axes>"
      ]
     },
     "metadata": {
      "needs_background": "light"
     },
     "output_type": "display_data"
    }
   ],
   "source": [
    "mat = np.mat([[TN, FN], [FP, TP]])\n",
    "# mat = confusion_matrix(dftest.iloc[:,-1], prediction_test)\n",
    "sns.heatmap(mat, square=True, annot=True, fmt='d', cbar=True, cmap=\"YlGnBu\",\n",
    "            xticklabels=['True','False'],\n",
    "            yticklabels=['Negative','Positive'])    \n",
    "plt.xlabel('Actual Label')\n",
    "plt.ylabel('Predicated Label')\n",
    "print('alpha:', alpha)\n",
    "print('beta:', beta)\n",
    "print('correct_rate:', correct_rate)"
   ]
  },
  {
   "cell_type": "code",
   "execution_count": 76,
   "metadata": {},
   "outputs": [
    {
     "name": "stdout",
     "output_type": "stream",
     "text": [
      "Min: 0.3823666184276258\n",
      "Max: 0.8893854202903689\n",
      "Avg: 0.6620148667757851\n",
      "Std: 0.05469730692278259\n"
     ]
    }
   ],
   "source": [
    "sum_motion_lar = []\n",
    "for (start, end) in duration:\n",
    "    t = int(start - 1) * 1000\n",
    "    Lars = []\n",
    "    while t < int(end + 1)  * 1000:\n",
    "        VC.set(cv2.CAP_PROP_POS_MSEC, t)\n",
    "        rval, frame = VC.read()\n",
    "        if rval:\n",
    "            lar, frame = process_frame(frame)\n",
    "            # plt.imshow(frame)\n",
    "        else:\n",
    "            lar = [0]\n",
    "        Lars = Lars + lar\n",
    "        t += 100\n",
    "    sum_motion_lar = sum_motion_lar + Lars\n",
    "    \n",
    "    # print(start, '-', end, ':')\n",
    "    # print('Min:', min(Lars))\n",
    "    # print('Max:', max(Lars))\n",
    "    # print('Avg:', np.mean(Lars))\n",
    "    # print('Std:', np.std(Lars))\n",
    "    # x = np.arange(int(start - 1), int(end + 1), 0.1)\n",
    "    # plt.plot(x, Lars,'o-')\n",
    "    # plt.xlabel('time')\n",
    "    # plt.ylabel('lar')\n",
    "    # plt.show()\n",
    "\n",
    "print('Min:', min(sum_motion_lar))\n",
    "print('Max:', max(sum_motion_lar))\n",
    "print('Avg:', np.mean(sum_motion_lar))\n",
    "print('Std:', np.std(sum_motion_lar))"
   ]
  },
  {
   "cell_type": "code",
   "execution_count": null,
   "metadata": {},
   "outputs": [],
   "source": []
  }
 ],
 "metadata": {
  "interpreter": {
   "hash": "a8f61be024eba58adef938c9aa1e29e02cb3dece83a5348b1a2dafd16a070453"
  },
  "kernelspec": {
   "display_name": "Python 3.8.5 64-bit ('base': conda)",
   "language": "python",
   "name": "python3"
  },
  "language_info": {
   "codemirror_mode": {
    "name": "ipython",
    "version": 3
   },
   "file_extension": ".py",
   "mimetype": "text/x-python",
   "name": "python",
   "nbconvert_exporter": "python",
   "pygments_lexer": "ipython3",
   "version": "3.8.12"
  },
  "orig_nbformat": 4
 },
 "nbformat": 4,
 "nbformat_minor": 2
}
